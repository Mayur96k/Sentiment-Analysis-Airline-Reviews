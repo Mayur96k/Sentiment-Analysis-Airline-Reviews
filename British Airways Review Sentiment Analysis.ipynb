{
 "cells": [
  {
   "cell_type": "code",
   "execution_count": 1,
   "id": "b2a2982b",
   "metadata": {},
   "outputs": [],
   "source": [
    "# Creating a new column called 'SENTIMENT' that contains the sentiment scores of each review using nltk\n",
    "from nltk.sentiment import vader\n",
    "import nltk\n",
    "import matplotlib.pyplot as plt\n",
    "import requests\n",
    "from collections import Counter\n",
    "import pandas as pd"
   ]
  },
  {
   "cell_type": "code",
   "execution_count": 2,
   "id": "cbc79260",
   "metadata": {},
   "outputs": [],
   "source": [
    "df =pd.read_csv('C:/Users/Admin/Desktop/BA Project/data/BA_reviews.csv')"
   ]
  },
  {
   "cell_type": "code",
   "execution_count": 3,
   "id": "f6ff20a7",
   "metadata": {},
   "outputs": [
    {
     "data": {
      "text/html": [
       "<div>\n",
       "<style scoped>\n",
       "    .dataframe tbody tr th:only-of-type {\n",
       "        vertical-align: middle;\n",
       "    }\n",
       "\n",
       "    .dataframe tbody tr th {\n",
       "        vertical-align: top;\n",
       "    }\n",
       "\n",
       "    .dataframe thead th {\n",
       "        text-align: right;\n",
       "    }\n",
       "</style>\n",
       "<table border=\"1\" class=\"dataframe\">\n",
       "  <thead>\n",
       "    <tr style=\"text-align: right;\">\n",
       "      <th></th>\n",
       "      <th>Unnamed: 0</th>\n",
       "      <th>reviews</th>\n",
       "    </tr>\n",
       "  </thead>\n",
       "  <tbody>\n",
       "    <tr>\n",
       "      <th>0</th>\n",
       "      <td>0</td>\n",
       "      <td>Not Verified | Regarding the aircraft and seat...</td>\n",
       "    </tr>\n",
       "    <tr>\n",
       "      <th>1</th>\n",
       "      <td>1</td>\n",
       "      <td>Not Verified | I travelled with British Airway...</td>\n",
       "    </tr>\n",
       "    <tr>\n",
       "      <th>2</th>\n",
       "      <td>2</td>\n",
       "      <td>Not Verified |  Food was lousy. Who ever is pl...</td>\n",
       "    </tr>\n",
       "    <tr>\n",
       "      <th>3</th>\n",
       "      <td>3</td>\n",
       "      <td>✅ Trip Verified | Had the worst experience. Th...</td>\n",
       "    </tr>\n",
       "    <tr>\n",
       "      <th>4</th>\n",
       "      <td>4</td>\n",
       "      <td>✅ Trip Verified |  The ground staff were not h...</td>\n",
       "    </tr>\n",
       "  </tbody>\n",
       "</table>\n",
       "</div>"
      ],
      "text/plain": [
       "   Unnamed: 0                                            reviews\n",
       "0           0  Not Verified | Regarding the aircraft and seat...\n",
       "1           1  Not Verified | I travelled with British Airway...\n",
       "2           2  Not Verified |  Food was lousy. Who ever is pl...\n",
       "3           3  ✅ Trip Verified | Had the worst experience. Th...\n",
       "4           4  ✅ Trip Verified |  The ground staff were not h..."
      ]
     },
     "execution_count": 3,
     "metadata": {},
     "output_type": "execute_result"
    }
   ],
   "source": [
    "df.head()"
   ]
  },
  {
   "cell_type": "code",
   "execution_count": 4,
   "id": "417d537c",
   "metadata": {},
   "outputs": [
    {
     "name": "stderr",
     "output_type": "stream",
     "text": [
      "[nltk_data] Downloading package vader_lexicon to\n",
      "[nltk_data]     C:\\Users\\Admin\\AppData\\Roaming\\nltk_data...\n",
      "[nltk_data]   Package vader_lexicon is already up-to-date!\n"
     ]
    },
    {
     "data": {
      "text/plain": [
       "True"
      ]
     },
     "execution_count": 4,
     "metadata": {},
     "output_type": "execute_result"
    }
   ],
   "source": [
    "import nltk\n",
    "nltk.download('vader_lexicon')\n"
   ]
  },
  {
   "cell_type": "code",
   "execution_count": 5,
   "id": "a180f733",
   "metadata": {},
   "outputs": [
    {
     "data": {
      "text/html": [
       "<div>\n",
       "<style scoped>\n",
       "    .dataframe tbody tr th:only-of-type {\n",
       "        vertical-align: middle;\n",
       "    }\n",
       "\n",
       "    .dataframe tbody tr th {\n",
       "        vertical-align: top;\n",
       "    }\n",
       "\n",
       "    .dataframe thead th {\n",
       "        text-align: right;\n",
       "    }\n",
       "</style>\n",
       "<table border=\"1\" class=\"dataframe\">\n",
       "  <thead>\n",
       "    <tr style=\"text-align: right;\">\n",
       "      <th></th>\n",
       "      <th>Unnamed: 0</th>\n",
       "      <th>reviews</th>\n",
       "      <th>SENTIMENT</th>\n",
       "    </tr>\n",
       "  </thead>\n",
       "  <tbody>\n",
       "    <tr>\n",
       "      <th>0</th>\n",
       "      <td>0</td>\n",
       "      <td>Not Verified | Regarding the aircraft and seat...</td>\n",
       "      <td>-0.4541</td>\n",
       "    </tr>\n",
       "    <tr>\n",
       "      <th>1</th>\n",
       "      <td>1</td>\n",
       "      <td>Not Verified | I travelled with British Airway...</td>\n",
       "      <td>-0.9455</td>\n",
       "    </tr>\n",
       "    <tr>\n",
       "      <th>2</th>\n",
       "      <td>2</td>\n",
       "      <td>Not Verified |  Food was lousy. Who ever is pl...</td>\n",
       "      <td>-0.7476</td>\n",
       "    </tr>\n",
       "    <tr>\n",
       "      <th>3</th>\n",
       "      <td>3</td>\n",
       "      <td>✅ Trip Verified | Had the worst experience. Th...</td>\n",
       "      <td>-0.8604</td>\n",
       "    </tr>\n",
       "    <tr>\n",
       "      <th>4</th>\n",
       "      <td>4</td>\n",
       "      <td>✅ Trip Verified |  The ground staff were not h...</td>\n",
       "      <td>-0.8537</td>\n",
       "    </tr>\n",
       "    <tr>\n",
       "      <th>...</th>\n",
       "      <td>...</td>\n",
       "      <td>...</td>\n",
       "      <td>...</td>\n",
       "    </tr>\n",
       "    <tr>\n",
       "      <th>995</th>\n",
       "      <td>995</td>\n",
       "      <td>✅ Trip Verified |  Mumbai to Edinburgh via Lon...</td>\n",
       "      <td>0.9903</td>\n",
       "    </tr>\n",
       "    <tr>\n",
       "      <th>996</th>\n",
       "      <td>996</td>\n",
       "      <td>✅ Trip Verified |  Mumbai to London Heathrow. ...</td>\n",
       "      <td>0.9773</td>\n",
       "    </tr>\n",
       "    <tr>\n",
       "      <th>997</th>\n",
       "      <td>997</td>\n",
       "      <td>✅ Trip Verified |  Delhi to London. Having rea...</td>\n",
       "      <td>0.9878</td>\n",
       "    </tr>\n",
       "    <tr>\n",
       "      <th>998</th>\n",
       "      <td>998</td>\n",
       "      <td>✅ Trip Verified | When you travel British Airw...</td>\n",
       "      <td>0.9288</td>\n",
       "    </tr>\n",
       "    <tr>\n",
       "      <th>999</th>\n",
       "      <td>999</td>\n",
       "      <td>✅ Trip Verified |  British Airways gets plenty...</td>\n",
       "      <td>0.9768</td>\n",
       "    </tr>\n",
       "  </tbody>\n",
       "</table>\n",
       "<p>1000 rows × 3 columns</p>\n",
       "</div>"
      ],
      "text/plain": [
       "     Unnamed: 0                                            reviews  SENTIMENT\n",
       "0             0  Not Verified | Regarding the aircraft and seat...    -0.4541\n",
       "1             1  Not Verified | I travelled with British Airway...    -0.9455\n",
       "2             2  Not Verified |  Food was lousy. Who ever is pl...    -0.7476\n",
       "3             3  ✅ Trip Verified | Had the worst experience. Th...    -0.8604\n",
       "4             4  ✅ Trip Verified |  The ground staff were not h...    -0.8537\n",
       "..          ...                                                ...        ...\n",
       "995         995  ✅ Trip Verified |  Mumbai to Edinburgh via Lon...     0.9903\n",
       "996         996  ✅ Trip Verified |  Mumbai to London Heathrow. ...     0.9773\n",
       "997         997  ✅ Trip Verified |  Delhi to London. Having rea...     0.9878\n",
       "998         998  ✅ Trip Verified | When you travel British Airw...     0.9288\n",
       "999         999  ✅ Trip Verified |  British Airways gets plenty...     0.9768\n",
       "\n",
       "[1000 rows x 3 columns]"
      ]
     },
     "execution_count": 5,
     "metadata": {},
     "output_type": "execute_result"
    }
   ],
   "source": [
    "# an instance of SentimentIntensityAnalyzer\n",
    "sentiment_analyzer = vader.SentimentIntensityAnalyzer()\n",
    "\n",
    "# a new column named 'SENTIMENT'\n",
    "df['SENTIMENT'] = df['reviews'].apply(\n",
    "    lambda review: sentiment_analyzer.polarity_scores(review)['compound']\n",
    "    )\n",
    "df"
   ]
  },
  {
   "cell_type": "code",
   "execution_count": 6,
   "id": "c30cd5aa",
   "metadata": {},
   "outputs": [
    {
     "data": {
      "text/html": [
       "<div>\n",
       "<style scoped>\n",
       "    .dataframe tbody tr th:only-of-type {\n",
       "        vertical-align: middle;\n",
       "    }\n",
       "\n",
       "    .dataframe tbody tr th {\n",
       "        vertical-align: top;\n",
       "    }\n",
       "\n",
       "    .dataframe thead th {\n",
       "        text-align: right;\n",
       "    }\n",
       "</style>\n",
       "<table border=\"1\" class=\"dataframe\">\n",
       "  <thead>\n",
       "    <tr style=\"text-align: right;\">\n",
       "      <th></th>\n",
       "      <th>Unnamed: 0</th>\n",
       "      <th>reviews</th>\n",
       "      <th>SENTIMENT</th>\n",
       "      <th>SENTIMENT_TYPE</th>\n",
       "    </tr>\n",
       "  </thead>\n",
       "  <tbody>\n",
       "    <tr>\n",
       "      <th>0</th>\n",
       "      <td>0</td>\n",
       "      <td>Not Verified | Regarding the aircraft and seat...</td>\n",
       "      <td>-0.4541</td>\n",
       "      <td>negative</td>\n",
       "    </tr>\n",
       "    <tr>\n",
       "      <th>1</th>\n",
       "      <td>1</td>\n",
       "      <td>Not Verified | I travelled with British Airway...</td>\n",
       "      <td>-0.9455</td>\n",
       "      <td>negative</td>\n",
       "    </tr>\n",
       "    <tr>\n",
       "      <th>2</th>\n",
       "      <td>2</td>\n",
       "      <td>Not Verified |  Food was lousy. Who ever is pl...</td>\n",
       "      <td>-0.7476</td>\n",
       "      <td>negative</td>\n",
       "    </tr>\n",
       "    <tr>\n",
       "      <th>3</th>\n",
       "      <td>3</td>\n",
       "      <td>✅ Trip Verified | Had the worst experience. Th...</td>\n",
       "      <td>-0.8604</td>\n",
       "      <td>negative</td>\n",
       "    </tr>\n",
       "    <tr>\n",
       "      <th>4</th>\n",
       "      <td>4</td>\n",
       "      <td>✅ Trip Verified |  The ground staff were not h...</td>\n",
       "      <td>-0.8537</td>\n",
       "      <td>negative</td>\n",
       "    </tr>\n",
       "    <tr>\n",
       "      <th>...</th>\n",
       "      <td>...</td>\n",
       "      <td>...</td>\n",
       "      <td>...</td>\n",
       "      <td>...</td>\n",
       "    </tr>\n",
       "    <tr>\n",
       "      <th>995</th>\n",
       "      <td>995</td>\n",
       "      <td>✅ Trip Verified |  Mumbai to Edinburgh via Lon...</td>\n",
       "      <td>0.9903</td>\n",
       "      <td>positive</td>\n",
       "    </tr>\n",
       "    <tr>\n",
       "      <th>996</th>\n",
       "      <td>996</td>\n",
       "      <td>✅ Trip Verified |  Mumbai to London Heathrow. ...</td>\n",
       "      <td>0.9773</td>\n",
       "      <td>positive</td>\n",
       "    </tr>\n",
       "    <tr>\n",
       "      <th>997</th>\n",
       "      <td>997</td>\n",
       "      <td>✅ Trip Verified |  Delhi to London. Having rea...</td>\n",
       "      <td>0.9878</td>\n",
       "      <td>positive</td>\n",
       "    </tr>\n",
       "    <tr>\n",
       "      <th>998</th>\n",
       "      <td>998</td>\n",
       "      <td>✅ Trip Verified | When you travel British Airw...</td>\n",
       "      <td>0.9288</td>\n",
       "      <td>positive</td>\n",
       "    </tr>\n",
       "    <tr>\n",
       "      <th>999</th>\n",
       "      <td>999</td>\n",
       "      <td>✅ Trip Verified |  British Airways gets plenty...</td>\n",
       "      <td>0.9768</td>\n",
       "      <td>positive</td>\n",
       "    </tr>\n",
       "  </tbody>\n",
       "</table>\n",
       "<p>1000 rows × 4 columns</p>\n",
       "</div>"
      ],
      "text/plain": [
       "     Unnamed: 0                                            reviews  SENTIMENT   \n",
       "0             0  Not Verified | Regarding the aircraft and seat...    -0.4541  \\\n",
       "1             1  Not Verified | I travelled with British Airway...    -0.9455   \n",
       "2             2  Not Verified |  Food was lousy. Who ever is pl...    -0.7476   \n",
       "3             3  ✅ Trip Verified | Had the worst experience. Th...    -0.8604   \n",
       "4             4  ✅ Trip Verified |  The ground staff were not h...    -0.8537   \n",
       "..          ...                                                ...        ...   \n",
       "995         995  ✅ Trip Verified |  Mumbai to Edinburgh via Lon...     0.9903   \n",
       "996         996  ✅ Trip Verified |  Mumbai to London Heathrow. ...     0.9773   \n",
       "997         997  ✅ Trip Verified |  Delhi to London. Having rea...     0.9878   \n",
       "998         998  ✅ Trip Verified | When you travel British Airw...     0.9288   \n",
       "999         999  ✅ Trip Verified |  British Airways gets plenty...     0.9768   \n",
       "\n",
       "    SENTIMENT_TYPE  \n",
       "0         negative  \n",
       "1         negative  \n",
       "2         negative  \n",
       "3         negative  \n",
       "4         negative  \n",
       "..             ...  \n",
       "995       positive  \n",
       "996       positive  \n",
       "997       positive  \n",
       "998       positive  \n",
       "999       positive  \n",
       "\n",
       "[1000 rows x 4 columns]"
      ]
     },
     "execution_count": 6,
     "metadata": {},
     "output_type": "execute_result"
    }
   ],
   "source": [
    "# Creating another new column called 'SENTIMENT_TYPE' that contains the type of sentiment of each review using nltk\n",
    "# for each sentiment score in the 'SENTIMENT' column\n",
    "df['SENTIMENT_TYPE'] = df['SENTIMENT'].apply(\n",
    "    lambda score: 'positive' if score > 0 else ('negative' if score < 0 else 'neutral')\n",
    "    )\n",
    "df\n"
   ]
  },
  {
   "cell_type": "code",
   "execution_count": 9,
   "id": "4ace9639",
   "metadata": {},
   "outputs": [
    {
     "data": {
      "image/png": "[encoded data removed]",
      "text/plain": [
       "<Figure size 640x480 with 1 Axes>"
      ]
     },
     "metadata": {},
     "output_type": "display_data"
    }
   ],
   "source": [
    "# calculate the percentage of each type of sentiment score\n",
    "sentiment_type_percentages = df['SENTIMENT_TYPE'].value_counts(normalize=True) * 100\n",
    "\n",
    "# create the pie chart\n",
    "fig, ax = plt.subplots()\n",
    "ax.pie(\n",
    "    sentiment_type_percentages,\n",
    "    labels=sentiment_type_percentages.index, \n",
    "    colors=['green', 'red', 'blue'], \n",
    "    explode=[0.1, 0, 0], \n",
    "    autopct='%1.1f%%'\n",
    "    )\n",
    "\n",
    "plt.show()"
   ]
  },
  {
   "cell_type": "code",
   "execution_count": null,
   "id": "718e926b",
   "metadata": {},
   "outputs": [],
   "source": []
  },
  {
   "cell_type": "code",
   "execution_count": 10,
   "id": "f0f09d34",
   "metadata": {},
   "outputs": [
    {
     "data": {
      "image/png": "[encoded data removed]",
      "text/plain": [
       "<Figure size 640x480 with 1 Axes>"
      ]
     },
     "metadata": {},
     "output_type": "display_data"
    }
   ],
   "source": [
    "\n",
    "\n",
    "# calculate the percentage of each type of sentiment score\n",
    "sentiment_type_percentages = df['SENTIMENT_TYPE'].value_counts(normalize=True) * 100\n",
    "\n",
    "# create the bar chart\n",
    "fig, ax = plt.subplots()\n",
    "ax.bar(\n",
    "    sentiment_type_percentages.index, \n",
    "    sentiment_type_percentages.values, \n",
    "    color=['green', 'red', 'blue']\n",
    "    )\n",
    "\n",
    "# set chart title and axis labels\n",
    "ax.set_title('Sentiment Analysis')\n",
    "ax.set_xlabel('Sentiment Type')\n",
    "ax.set_ylabel('Frequency (%)')\n",
    "\n",
    "plt.show()"
   ]
  },
  {
   "cell_type": "code",
   "execution_count": 11,
   "id": "990164fb",
   "metadata": {},
   "outputs": [
    {
     "data": {
      "image/png": "[encoded data removed]",
      "text/plain": [
       "<Figure size 640x480 with 1 Axes>"
      ]
     },
     "metadata": {},
     "output_type": "display_data"
    }
   ],
   "source": [
    "# create the frequency chart\n",
    "fig, ax = plt.subplots()\n",
    "ax.hist(\n",
    "    df['SENTIMENT_TYPE'], \n",
    "    bins=[-1, -0.1, 0.1, 1], \n",
    "    color=['orange'],\n",
    "    edgecolor='black'\n",
    "    )\n",
    "\n",
    "# set chart title and axis labels\n",
    "ax.set_title('Sentiment Analysis')\n",
    "ax.set_xlabel('Sentiment Type')\n",
    "ax.set_ylabel('Frequency')\n",
    "\n",
    "# set x-axis tick labels\n",
    "ax.set_xticks([-1, 0, 1])\n",
    "ax.set_xticklabels(['Negative', 'Neutral', 'Positive'])\n",
    "\n",
    "plt.show()\n"
   ]
  },
  {
   "cell_type": "markdown",
   "id": "ab02e088",
   "metadata": {},
   "source": [
    "Sentiment\n",
    "Out of 1000 reviews, 533 were positive, 463 were negative and 4 were neutral. This means the majority of reviews were\n",
    "polarised as either positive or negative"
   ]
  },
  {
   "cell_type": "code",
   "execution_count": 13,
   "id": "599ddfcc",
   "metadata": {},
   "outputs": [],
   "source": [
    "#Saving the new data into a csv\n",
    "df.to_csv(r\"C:/Users/Admin/Desktop/BA Project/data/Cleaned_BA_reviews.csv\")"
   ]
  },
  {
   "cell_type": "code",
   "execution_count": 12,
   "id": "b30dafb6",
   "metadata": {},
   "outputs": [
    {
     "name": "stderr",
     "output_type": "stream",
     "text": [
      "C:\\Users\\Admin\\AppData\\Local\\Programs\\Python\\Python311\\Lib\\site-packages\\IPython\\core\\pylabtools.py:152: UserWarning: Glyph 9989 (\\N{WHITE HEAVY CHECK MARK}) missing from current font.\n",
      "  fig.canvas.print_figure(bytes_io, **kw)\n"
     ]
    },
    {
     "data": {
      "image/png": "[encoded data removed]",
      "text/plain": [
       "<Figure size 640x480 with 1 Axes>"
      ]
     },
     "metadata": {},
     "output_type": "display_data"
    }
   ],
   "source": [
    "# The frequency chart shows the key topics within the \n",
    "# reviews showing what people are actively talking about their experience and staff\n",
    "\n",
    "# Get the reviews from the dataframe\n",
    "reviews = df['reviews']\n",
    "\n",
    "# Convert the reviews to a list of words\n",
    "words = []\n",
    "for review in reviews:\n",
    "    words.extend(review.split())\n",
    "\n",
    "# Filter out the stubborn stop words that don't want to disappear\n",
    "stopwords = nltk.corpus.stopwords.words('english')\n",
    "key_words = [word for word in words if word not in stopwords and word not in ['I', 'The','would','one','get','-']]\n",
    "\n",
    "# Get the top 20 most used key words\n",
    "word_counts = Counter(key_words)\n",
    "top_20_words = word_counts.most_common(20)\n",
    "\n",
    "# Filter out the stop words \n",
    "filtered_words = [\n",
    "    (word, count) for word, count in top_20_words if word not in stopwords and word not in ['I', 'The','would','one','get','-']\n",
    "    ]\n",
    "\n",
    "# Get the labels and values for the histogram\n",
    "labels, values = zip(*top_20_words)\n",
    "\n",
    "# Create the histogram\n",
    "plt.bar(labels, values)\n",
    "\n",
    "# Set the x-axis labels to be vertical\n",
    "plt.xticks(rotation=90)\n",
    "\n",
    "#Display the plot\n",
    "plt.show()"
   ]
  },
  {
   "cell_type": "markdown",
   "id": "51bbd6cf",
   "metadata": {},
   "source": [
    "Key topics\n",
    "\n",
    "The frequency chart below shows that the key topics within the reviews include “flight”, “London”, “service” and “crew”, showing that \n",
    "people are actively talking about their experience and staff"
   ]
  }
 ],
 "metadata": {
  "kernelspec": {
   "display_name": "Python 3 (ipykernel)",
   "language": "python",
   "name": "python3"
  },
  "language_info": {
   "codemirror_mode": {
    "name": "ipython",
    "version": 3
   },
   "file_extension": ".py",
   "mimetype": "text/x-python",
   "name": "python",
   "nbconvert_exporter": "python",
   "pygments_lexer": "ipython3",
   "version": "3.11.3"
  }
 },
 "nbformat": 4,
 "nbformat_minor": 5
}
